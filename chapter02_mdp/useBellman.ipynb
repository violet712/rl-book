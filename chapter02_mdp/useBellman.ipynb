{
 "cells": [
  {
   "cell_type": "markdown",
   "metadata": {},
   "source": [
    "# Bellman 方程求解\n",
    "2019年8月第一版第一次印刷：书中该例子计算有误，以此为准。（其他版次无误）"
   ]
  },
  {
   "cell_type": "code",
   "execution_count": 2,
   "metadata": {},
   "outputs": [],
   "source": [
    "import sympy\n",
    "from sympy import symbols\n",
    "sympy.init_printing()"
   ]
  },
  {
   "cell_type": "markdown",
   "metadata": {},
   "source": [
    "### 求解 Bellman 期望方程"
   ]
  },
  {
   "cell_type": "code",
   "execution_count": 3,
   "metadata": {},
   "outputs": [],
   "source": [
    "v_hungry, v_full = symbols('v_hungry v_full')\n",
    "q_hungry_eat, q_hungry_none, q_full_eat, q_full_none = \\\n",
    "        symbols('q_hungry_eat q_hungry_none q_full_eat q_full_none')\n",
    "alpha, beta, gamma = symbols('alpha beta gamma')\n",
    "x, y = symbols('x y')"
   ]
  },
  {
   "cell_type": "code",
   "execution_count": 4,
   "metadata": {
    "scrolled": false
   },
   "outputs": [],
   "source": [
    "system = sympy.Matrix((\n",
    "        (1, 0, x-1, -x, 0, 0, 0),\n",
    "        (0, 1, 0, 0, -y, y-1, 0),\n",
    "        (-gamma, 0, 1, 0, 0, 0, -2),\n",
    "        ((alpha-1)*gamma, -alpha*gamma, 0, 1, 0, 0, 4*alpha-3),\n",
    "        (-beta*gamma, (beta-1)*gamma, 0, 0, 1, 0, -4*beta+2),\n",
    "        (0, -gamma, 0, 0, 0, 1, 1) ))\n",
    "sympy.solve_linear_system(system,\n",
    "        v_hungry, v_full,\n",
    "        q_hungry_none, q_hungry_eat, q_full_none, q_full_eat)"
   ]
  },
  {
   "cell_type": "markdown",
   "metadata": {},
   "source": [
    "### 求解 Bellman 最优方程"
   ]
  },
  {
   "cell_type": "code",
   "execution_count": null,
   "metadata": {
    "scrolled": true
   },
   "outputs": [
    {
     "name": "stdout",
     "output_type": "stream",
     "text": [
      "==== v(饿) = q(饿,不吃), v(饱) = q(饱,吃) ==== x = 0, y = 0 ====\n"
     ]
    },
    {
     "data": {
      "image/png": "[encoded data removed]",
      "text/latex": [
       "$$\\left \\{ q_{full eat} : - \\frac{1}{\\gamma - 1}, \\quad q_{full none} : \\frac{- \\beta \\gamma + 4 \\beta + \\gamma - 2}{\\gamma - 1}, \\quad q_{hungry eat} : \\frac{\\alpha \\gamma - 4 \\alpha - \\gamma + 3}{\\gamma - 1}, \\quad q_{hungry none} : \\frac{2}{\\gamma - 1}, \\quad v_{full} : - \\frac{1}{\\gamma - 1}, \\quad v_{hungry} : \\frac{2}{\\gamma - 1}\\right \\}$$"
      ],
      "text/plain": [
       "⎧             -1                 -β⋅γ + 4⋅β + γ - 2                α⋅γ - 4⋅α -\n",
       "⎨q_full_eat: ─────, q_full_none: ──────────────────, q_hungry_eat: ───────────\n",
       "⎩            γ - 1                     γ - 1                             γ - 1\n",
       "\n",
       " γ + 3                   2             -1                2  ⎫\n",
       "──────, q_hungry_none: ─────, v_full: ─────, v_hungry: ─────⎬\n",
       "                       γ - 1          γ - 1            γ - 1⎭"
      ]
     },
     "metadata": {},
     "output_type": "display_data"
    },
    {
     "name": "stdout",
     "output_type": "stream",
     "text": [
      "==== v(饿) = q(饿,吃), v(饱) = q(饱,吃) ==== x = 1, y = 0 ====\n"
     ]
    },
    {
     "data": {
      "image/png": "[encoded data removed]",
      "text/latex": [
       "$$\\left \\{ q_{full eat} : - \\frac{1}{\\gamma - 1}, \\quad q_{full none} : \\frac{\\alpha \\gamma^{2} - 2 \\alpha \\gamma - 4 \\beta \\gamma + 4 \\beta - \\gamma^{2} + 3 \\gamma - 2}{\\alpha \\gamma^{2} - \\alpha \\gamma - \\gamma^{2} + 2 \\gamma - 1}, \\quad q_{hungry eat} : \\frac{- \\alpha \\gamma + \\left(4 \\alpha - 3\\right) \\left(\\gamma - 1\\right)}{\\gamma^{2} \\left(\\alpha - 1\\right) - \\gamma \\left(\\alpha - 1\\right) + \\gamma - 1}, \\quad q_{hungry none} : \\frac{\\alpha \\gamma^{2} - 2 \\alpha \\gamma - \\gamma^{2} - \\gamma + 2}{\\alpha \\gamma^{2} - \\alpha \\gamma - \\gamma^{2} + 2 \\gamma - 1}, \\quad v_{full} : - \\frac{1}{\\gamma - 1}, \\quad v_{hungry} : \\frac{- \\alpha \\gamma + \\left(4 \\alpha - 3\\right) \\left(\\gamma - 1\\right)}{\\gamma^{2} \\left(\\alpha - 1\\right) - \\gamma \\left(\\alpha - 1\\right) + \\gamma - 1}\\right \\}$$"
      ],
      "text/plain": [
       "⎧                                   2                          2              \n",
       "⎪             -1                 α⋅γ  - 2⋅α⋅γ - 4⋅β⋅γ + 4⋅β - γ  + 3⋅γ - 2    \n",
       "⎨q_full_eat: ─────, q_full_none: ─────────────────────────────────────────, q_\n",
       "⎪            γ - 1                          2          2                      \n",
       "⎩                                        α⋅γ  - α⋅γ - γ  + 2⋅γ - 1            \n",
       "\n",
       "                                                              2            2  \n",
       "               -α⋅γ + (4⋅α - 3)⋅(γ - 1)                    α⋅γ  - 2⋅α⋅γ - γ  -\n",
       "hungry_eat: ──────────────────────────────, q_hungry_none: ───────────────────\n",
       "             2                                                2          2    \n",
       "            γ ⋅(α - 1) - γ⋅(α - 1) + γ - 1                 α⋅γ  - α⋅γ - γ  + 2\n",
       "\n",
       "                                                               ⎫\n",
       " γ + 2           -1                 -α⋅γ + (4⋅α - 3)⋅(γ - 1)   ⎪\n",
       "──────, v_full: ─────, v_hungry: ──────────────────────────────⎬\n",
       "                γ - 1             2                            ⎪\n",
       "⋅γ - 1                           γ ⋅(α - 1) - γ⋅(α - 1) + γ - 1⎭"
      ]
     },
     "metadata": {},
     "output_type": "display_data"
    },
    {
     "name": "stdout",
     "output_type": "stream",
     "text": [
      "==== v(饿) = q(饿,不吃), v(饱) = q(饱,不吃) ==== x = 0, y = 1 ====\n"
     ]
    },
    {
     "data": {
      "image/png": "[encoded data removed]",
      "text/latex": [
       "$$\\left \\{ q_{full eat} : \\frac{- \\beta \\gamma^{2} + 3 \\beta \\gamma + \\gamma^{2} - 1}{\\beta \\gamma^{2} - \\beta \\gamma - \\gamma^{2} + 2 \\gamma - 1}, \\quad q_{full none} : \\frac{2 \\left(\\beta \\gamma - \\left(2 \\beta - 1\\right) \\left(\\gamma - 1\\right)\\right)}{\\gamma^{2} \\left(\\beta - 1\\right) - \\gamma \\left(\\beta - 1\\right) + \\gamma - 1}, \\quad q_{hungry eat} : \\frac{4 \\alpha \\gamma - 4 \\alpha - \\beta \\gamma^{2} + 3 \\beta \\gamma + \\gamma^{2} - 4 \\gamma + 3}{\\beta \\gamma^{2} - \\beta \\gamma - \\gamma^{2} + 2 \\gamma - 1}, \\quad q_{hungry none} : \\frac{2}{\\gamma - 1}, \\quad v_{full} : \\frac{2 \\left(\\beta \\gamma - \\left(2 \\beta - 1\\right) \\left(\\gamma - 1\\right)\\right)}{\\gamma^{2} \\left(\\beta - 1\\right) - \\gamma \\left(\\beta - 1\\right) + \\gamma - 1}, \\quad v_{hungry} : \\frac{2}{\\gamma - 1}\\right \\}$$"
      ],
      "text/plain": [
       "⎧                  2            2                                             \n",
       "⎪             - β⋅γ  + 3⋅β⋅γ + γ  - 1                 2⋅(β⋅γ - (2⋅β - 1)⋅(γ - \n",
       "⎨q_full_eat: ─────────────────────────, q_full_none: ─────────────────────────\n",
       "⎪               2          2                          2                       \n",
       "⎩            β⋅γ  - β⋅γ - γ  + 2⋅γ - 1               γ ⋅(β - 1) - γ⋅(β - 1) + \n",
       "\n",
       "                                      2            2                          \n",
       "1))                  4⋅α⋅γ - 4⋅α - β⋅γ  + 3⋅β⋅γ + γ  - 4⋅γ + 3                \n",
       "─────, q_hungry_eat: ─────────────────────────────────────────, q_hungry_none:\n",
       "                                2          2                                  \n",
       "γ - 1                        β⋅γ  - β⋅γ - γ  + 2⋅γ - 1                        \n",
       "\n",
       "                                                               ⎫\n",
       "   2             2⋅(β⋅γ - (2⋅β - 1)⋅(γ - 1))                2  ⎪\n",
       " ─────, v_full: ──────────────────────────────, v_hungry: ─────⎬\n",
       " γ - 1           2                                        γ - 1⎪\n",
       "                γ ⋅(β - 1) - γ⋅(β - 1) + γ - 1                 ⎭"
      ]
     },
     "metadata": {},
     "output_type": "display_data"
    },
    {
     "name": "stdout",
     "output_type": "stream",
     "text": [
      "==== v(饿) = q(饿,吃), v(饱) = q(饱,不吃) ==== x = 1, y = 1 ====\n"
     ]
    },
    {
     "data": {
      "image/png": "[encoded data removed]",
      "text/latex": [
       "$$\\left \\{ q_{full eat} : \\frac{- \\alpha \\gamma^{2} - \\alpha \\gamma + 3 \\beta \\gamma + \\gamma^{2} - 1}{\\alpha \\gamma^{2} - \\alpha \\gamma + \\beta \\gamma^{2} - \\beta \\gamma - \\gamma^{2} + 2 \\gamma - 1}, \\quad q_{full none} : \\frac{- 2 \\alpha \\gamma - \\beta \\gamma + 4 \\beta + 2 \\gamma - 2}{\\alpha \\gamma^{2} - \\alpha \\gamma + \\beta \\gamma^{2} - \\beta \\gamma - \\gamma^{2} + 2 \\gamma - 1}, \\quad q_{hungry eat} : \\frac{2 \\alpha \\gamma - 4 \\alpha + 3 \\beta \\gamma - 3 \\gamma + 3}{\\alpha \\gamma^{2} - \\alpha \\gamma + \\beta \\gamma^{2} - \\beta \\gamma - \\gamma^{2} + 2 \\gamma - 1}, \\quad q_{hungry none} : \\frac{- 2 \\alpha \\gamma + \\beta \\gamma^{2} + 2 \\beta \\gamma - \\gamma^{2} - \\gamma + 2}{\\alpha \\gamma^{2} - \\alpha \\gamma + \\beta \\gamma^{2} - \\beta \\gamma - \\gamma^{2} + 2 \\gamma - 1}, \\quad v_{full} : \\frac{- 2 \\alpha \\gamma - \\beta \\gamma + 4 \\beta + 2 \\gamma - 2}{\\alpha \\gamma^{2} - \\alpha \\gamma + \\beta \\gamma^{2} - \\beta \\gamma - \\gamma^{2} + 2 \\gamma - 1}, \\quad v_{hungry} : \\frac{2 \\alpha \\gamma - 4 \\alpha + 3 \\beta \\gamma - 3 \\gamma + 3}{\\alpha \\gamma^{2} - \\alpha \\gamma + \\beta \\gamma^{2} - \\beta \\gamma - \\gamma^{2} + 2 \\gamma - 1}\\right \\}$$"
      ],
      "text/plain": [
       "⎧                     2                  2                                    \n",
       "⎪                - α⋅γ  - α⋅γ + 3⋅β⋅γ + γ  - 1                         -2⋅α⋅γ \n",
       "⎨q_full_eat: ──────────────────────────────────────, q_full_none: ────────────\n",
       "⎪               2            2          2                            2        \n",
       "⎩            α⋅γ  - α⋅γ + β⋅γ  - β⋅γ - γ  + 2⋅γ - 1               α⋅γ  - α⋅γ +\n",
       "\n",
       "                                                                              \n",
       "- β⋅γ + 4⋅β + 2⋅γ - 2                         2⋅α⋅γ - 4⋅α + 3⋅β⋅γ - 3⋅γ + 3   \n",
       "──────────────────────────, q_hungry_eat: ────────────────────────────────────\n",
       "    2          2                             2            2          2        \n",
       " β⋅γ  - β⋅γ - γ  + 2⋅γ - 1                α⋅γ  - α⋅γ + β⋅γ  - β⋅γ - γ  + 2⋅γ -\n",
       "\n",
       "                                 2            2                               \n",
       "                     -2⋅α⋅γ + β⋅γ  + 2⋅β⋅γ - γ  - γ + 2                 -2⋅α⋅γ\n",
       "──, q_hungry_none: ──────────────────────────────────────, v_full: ───────────\n",
       "                      2            2          2                       2       \n",
       " 1                 α⋅γ  - α⋅γ + β⋅γ  - β⋅γ - γ  + 2⋅γ - 1          α⋅γ  - α⋅γ \n",
       "\n",
       "                                                                             ⎫\n",
       " - β⋅γ + 4⋅β + 2⋅γ - 2                     2⋅α⋅γ - 4⋅α + 3⋅β⋅γ - 3⋅γ + 3     ⎪\n",
       "───────────────────────────, v_hungry: ──────────────────────────────────────⎬\n",
       "     2          2                         2            2          2          ⎪\n",
       "+ β⋅γ  - β⋅γ - γ  + 2⋅γ - 1            α⋅γ  - α⋅γ + β⋅γ  - β⋅γ - γ  + 2⋅γ - 1⎭"
      ]
     },
     "metadata": {},
     "output_type": "display_data"
    }
   ],
   "source": [
    "xy_tuples = ((0, 0), (1, 0), (0, 1), (1, 1))\n",
    "for x, y in xy_tuples:\n",
    "    system = sympy.Matrix((\n",
    "            (1, 0, x-1, -x, 0, 0, 0),\n",
    "            (0, 1, 0, 0, -y, y-1, 0),\n",
    "            (-gamma, 0, 1, 0, 0, 0, -2),\n",
    "            ((alpha-1)*gamma, -alpha*gamma, 0, 1, 0, 0, 4*alpha-3),\n",
    "            (-beta*gamma, (beta-1)*gamma, 0, 0, 1, 0, -4*beta+2),\n",
    "            (0, -gamma, 0, 0, 0, 1, 1) ))\n",
    "    result = sympy.solve_linear_system(system,\n",
    "            v_hungry, v_full,\n",
    "            q_hungry_none, q_hungry_eat, q_full_none, q_full_eat, simplification=True)\n",
    "    msgx = 'v(饿) = q(饿,{}吃)'.format('' if x else '不')\n",
    "    msgy = 'v(饱) = q(饱,{}吃)'.format('不' if y else '')\n",
    "    print('==== {}, {} ==== x = {}, y = {} ===='.format(msgx, msgy, x, y))\n",
    "    display(result)"
   ]
  }
 ],
 "metadata": {
  "kernelspec": {
   "display_name": "Python 3",
   "language": "python",
   "name": "python3"
  },
  "language_info": {
   "codemirror_mode": {
    "name": "ipython",
    "version": 3
   },
   "file_extension": ".py",
   "mimetype": "text/x-python",
   "name": "python",
   "nbconvert_exporter": "python",
   "pygments_lexer": "ipython3",
   "version": "3.9.12"
  }
 },
 "nbformat": 4,
 "nbformat_minor": 2
}
